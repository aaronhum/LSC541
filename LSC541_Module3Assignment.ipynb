{
  "nbformat": 4,
  "nbformat_minor": 0,
  "metadata": {
    "colab": {
      "provenance": []
    },
    "kernelspec": {
      "name": "ir",
      "display_name": "R"
    },
    "language_info": {
      "name": "R"
    }
  },
  "cells": [
    {
      "cell_type": "markdown",
      "source": [
        "# Module 3: Assignment\n",
        "## Aaron Hum\n",
        "### Stephanie Moyerman, PhD\n",
        "#### LSC 541: Statistics for Biological Data Science I\n",
        "##### 2024-07-16"
      ],
      "metadata": {
        "id": "sHNX4a8Ataof"
      }
    },
    {
      "cell_type": "code",
      "source": [
        "# load library\n",
        "library(ggplot2)"
      ],
      "metadata": {
        "id": "2meF2KuksJ-s"
      },
      "execution_count": 1,
      "outputs": []
    },
    {
      "cell_type": "code",
      "execution_count": 17,
      "metadata": {
        "id": "7Qa4_jTMXELN",
        "colab": {
          "base_uri": "https://localhost:8080/",
          "height": 1000
        },
        "outputId": "4f36b8e2-88a6-4871-d13c-8cec8a9f1098"
      },
      "outputs": [
        {
          "output_type": "display_data",
          "data": {
            "text/html": [
              "<table class=\"dataframe\">\n",
              "<caption>A data.frame: 86 × 4</caption>\n",
              "<thead>\n",
              "\t<tr><th></th><th scope=col>age_month</th><th scope=col>gender</th><th scope=col>vitD_level</th><th scope=col>group</th></tr>\n",
              "\t<tr><th></th><th scope=col>&lt;int&gt;</th><th scope=col>&lt;chr&gt;</th><th scope=col>&lt;dbl&gt;</th><th scope=col>&lt;int&gt;</th></tr>\n",
              "</thead>\n",
              "<tbody>\n",
              "\t<tr><th scope=row>1</th><td>60</td><td>F</td><td>47.5</td><td>1</td></tr>\n",
              "\t<tr><th scope=row>2</th><td>50</td><td>M</td><td>39.0</td><td>1</td></tr>\n",
              "\t<tr><th scope=row>3</th><td>35</td><td>F</td><td>13.6</td><td>1</td></tr>\n",
              "\t<tr><th scope=row>4</th><td>50</td><td>F</td><td>16.7</td><td>1</td></tr>\n",
              "\t<tr><th scope=row>5</th><td>61</td><td>F</td><td>32.7</td><td>0</td></tr>\n",
              "\t<tr><th scope=row>6</th><td>55</td><td>F</td><td>23.2</td><td>0</td></tr>\n",
              "\t<tr><th scope=row>7</th><td>54</td><td>F</td><td>36.4</td><td>0</td></tr>\n",
              "\t<tr><th scope=row>8</th><td>60</td><td>F</td><td>38.1</td><td>1</td></tr>\n",
              "\t<tr><th scope=row>9</th><td>47</td><td>F</td><td>28.2</td><td>1</td></tr>\n",
              "\t<tr><th scope=row>10</th><td>65</td><td>M</td><td>34.1</td><td>1</td></tr>\n",
              "\t<tr><th scope=row>11</th><td>22</td><td>F</td><td>25.7</td><td>1</td></tr>\n",
              "\t<tr><th scope=row>12</th><td>52</td><td>M</td><td>39.9</td><td>1</td></tr>\n",
              "\t<tr><th scope=row>13</th><td>50</td><td>F</td><td>45.2</td><td>1</td></tr>\n",
              "\t<tr><th scope=row>14</th><td>51</td><td>F</td><td>47.8</td><td>0</td></tr>\n",
              "\t<tr><th scope=row>15</th><td>33</td><td>F</td><td>42.4</td><td>0</td></tr>\n",
              "\t<tr><th scope=row>16</th><td>60</td><td>F</td><td>39.3</td><td>1</td></tr>\n",
              "\t<tr><th scope=row>17</th><td>65</td><td>F</td><td>23.4</td><td>1</td></tr>\n",
              "\t<tr><th scope=row>18</th><td>74</td><td>F</td><td>36.6</td><td>0</td></tr>\n",
              "\t<tr><th scope=row>19</th><td>51</td><td>F</td><td>18.4</td><td>1</td></tr>\n",
              "\t<tr><th scope=row>20</th><td>57</td><td>F</td><td>87.2</td><td>0</td></tr>\n",
              "\t<tr><th scope=row>21</th><td>51</td><td>F</td><td>35.1</td><td>0</td></tr>\n",
              "\t<tr><th scope=row>22</th><td>54</td><td>F</td><td>38.5</td><td>1</td></tr>\n",
              "\t<tr><th scope=row>23</th><td>53</td><td>F</td><td>28.2</td><td>1</td></tr>\n",
              "\t<tr><th scope=row>24</th><td>56</td><td>F</td><td>30.6</td><td>1</td></tr>\n",
              "\t<tr><th scope=row>25</th><td>47</td><td>F</td><td>52.5</td><td>0</td></tr>\n",
              "\t<tr><th scope=row>26</th><td>46</td><td>M</td><td>23.3</td><td>0</td></tr>\n",
              "\t<tr><th scope=row>27</th><td>41</td><td>M</td><td>45.4</td><td>1</td></tr>\n",
              "\t<tr><th scope=row>28</th><td>49</td><td>F</td><td>38.6</td><td>0</td></tr>\n",
              "\t<tr><th scope=row>29</th><td>66</td><td>M</td><td>46.0</td><td>1</td></tr>\n",
              "\t<tr><th scope=row>30</th><td>48</td><td>M</td><td>51.3</td><td>1</td></tr>\n",
              "\t<tr><th scope=row>⋮</th><td>⋮</td><td>⋮</td><td>⋮</td><td>⋮</td></tr>\n",
              "\t<tr><th scope=row>57</th><td>57</td><td>F</td><td>13.8</td><td>1</td></tr>\n",
              "\t<tr><th scope=row>58</th><td>57</td><td>F</td><td>24.9</td><td>1</td></tr>\n",
              "\t<tr><th scope=row>59</th><td>40</td><td>M</td><td>45.5</td><td>1</td></tr>\n",
              "\t<tr><th scope=row>60</th><td>57</td><td>M</td><td>28.6</td><td>0</td></tr>\n",
              "\t<tr><th scope=row>61</th><td>27</td><td>F</td><td>63.6</td><td>1</td></tr>\n",
              "\t<tr><th scope=row>62</th><td>45</td><td>F</td><td>21.1</td><td>0</td></tr>\n",
              "\t<tr><th scope=row>63</th><td>27</td><td>F</td><td>19.2</td><td>1</td></tr>\n",
              "\t<tr><th scope=row>64</th><td>51</td><td>M</td><td>24.0</td><td>0</td></tr>\n",
              "\t<tr><th scope=row>65</th><td>50</td><td>M</td><td>50.1</td><td>0</td></tr>\n",
              "\t<tr><th scope=row>66</th><td>50</td><td>F</td><td>26.1</td><td>1</td></tr>\n",
              "\t<tr><th scope=row>67</th><td>64</td><td>F</td><td>16.1</td><td>1</td></tr>\n",
              "\t<tr><th scope=row>68</th><td>52</td><td>M</td><td>34.7</td><td>1</td></tr>\n",
              "\t<tr><th scope=row>69</th><td>56</td><td>M</td><td>16.0</td><td>0</td></tr>\n",
              "\t<tr><th scope=row>70</th><td>63</td><td>M</td><td>26.8</td><td>0</td></tr>\n",
              "\t<tr><th scope=row>71</th><td>53</td><td>M</td><td>37.4</td><td>1</td></tr>\n",
              "\t<tr><th scope=row>72</th><td>38</td><td>F</td><td>39.7</td><td>0</td></tr>\n",
              "\t<tr><th scope=row>73</th><td>40</td><td>M</td><td>44.8</td><td>0</td></tr>\n",
              "\t<tr><th scope=row>75</th><td>54</td><td>F</td><td>31.3</td><td>0</td></tr>\n",
              "\t<tr><th scope=row>76</th><td>25</td><td>F</td><td>32.7</td><td>1</td></tr>\n",
              "\t<tr><th scope=row>77</th><td>63</td><td>F</td><td>31.5</td><td>1</td></tr>\n",
              "\t<tr><th scope=row>78</th><td>50</td><td>M</td><td>40.6</td><td>1</td></tr>\n",
              "\t<tr><th scope=row>79</th><td>64</td><td>M</td><td>48.0</td><td>0</td></tr>\n",
              "\t<tr><th scope=row>80</th><td>51</td><td>F</td><td>39.5</td><td>1</td></tr>\n",
              "\t<tr><th scope=row>81</th><td>49</td><td>F</td><td>46.3</td><td>1</td></tr>\n",
              "\t<tr><th scope=row>82</th><td>57</td><td>F</td><td>31.3</td><td>1</td></tr>\n",
              "\t<tr><th scope=row>83</th><td>50</td><td>F</td><td>27.0</td><td>1</td></tr>\n",
              "\t<tr><th scope=row>84</th><td>71</td><td>F</td><td>46.6</td><td>0</td></tr>\n",
              "\t<tr><th scope=row>85</th><td>51</td><td>F</td><td>50.9</td><td>1</td></tr>\n",
              "\t<tr><th scope=row>86</th><td>48</td><td>M</td><td>31.3</td><td>0</td></tr>\n",
              "\t<tr><th scope=row>87</th><td>47</td><td>F</td><td>15.1</td><td>0</td></tr>\n",
              "</tbody>\n",
              "</table>\n"
            ],
            "text/markdown": "\nA data.frame: 86 × 4\n\n| <!--/--> | age_month &lt;int&gt; | gender &lt;chr&gt; | vitD_level &lt;dbl&gt; | group &lt;int&gt; |\n|---|---|---|---|---|\n| 1 | 60 | F | 47.5 | 1 |\n| 2 | 50 | M | 39.0 | 1 |\n| 3 | 35 | F | 13.6 | 1 |\n| 4 | 50 | F | 16.7 | 1 |\n| 5 | 61 | F | 32.7 | 0 |\n| 6 | 55 | F | 23.2 | 0 |\n| 7 | 54 | F | 36.4 | 0 |\n| 8 | 60 | F | 38.1 | 1 |\n| 9 | 47 | F | 28.2 | 1 |\n| 10 | 65 | M | 34.1 | 1 |\n| 11 | 22 | F | 25.7 | 1 |\n| 12 | 52 | M | 39.9 | 1 |\n| 13 | 50 | F | 45.2 | 1 |\n| 14 | 51 | F | 47.8 | 0 |\n| 15 | 33 | F | 42.4 | 0 |\n| 16 | 60 | F | 39.3 | 1 |\n| 17 | 65 | F | 23.4 | 1 |\n| 18 | 74 | F | 36.6 | 0 |\n| 19 | 51 | F | 18.4 | 1 |\n| 20 | 57 | F | 87.2 | 0 |\n| 21 | 51 | F | 35.1 | 0 |\n| 22 | 54 | F | 38.5 | 1 |\n| 23 | 53 | F | 28.2 | 1 |\n| 24 | 56 | F | 30.6 | 1 |\n| 25 | 47 | F | 52.5 | 0 |\n| 26 | 46 | M | 23.3 | 0 |\n| 27 | 41 | M | 45.4 | 1 |\n| 28 | 49 | F | 38.6 | 0 |\n| 29 | 66 | M | 46.0 | 1 |\n| 30 | 48 | M | 51.3 | 1 |\n| ⋮ | ⋮ | ⋮ | ⋮ | ⋮ |\n| 57 | 57 | F | 13.8 | 1 |\n| 58 | 57 | F | 24.9 | 1 |\n| 59 | 40 | M | 45.5 | 1 |\n| 60 | 57 | M | 28.6 | 0 |\n| 61 | 27 | F | 63.6 | 1 |\n| 62 | 45 | F | 21.1 | 0 |\n| 63 | 27 | F | 19.2 | 1 |\n| 64 | 51 | M | 24.0 | 0 |\n| 65 | 50 | M | 50.1 | 0 |\n| 66 | 50 | F | 26.1 | 1 |\n| 67 | 64 | F | 16.1 | 1 |\n| 68 | 52 | M | 34.7 | 1 |\n| 69 | 56 | M | 16.0 | 0 |\n| 70 | 63 | M | 26.8 | 0 |\n| 71 | 53 | M | 37.4 | 1 |\n| 72 | 38 | F | 39.7 | 0 |\n| 73 | 40 | M | 44.8 | 0 |\n| 75 | 54 | F | 31.3 | 0 |\n| 76 | 25 | F | 32.7 | 1 |\n| 77 | 63 | F | 31.5 | 1 |\n| 78 | 50 | M | 40.6 | 1 |\n| 79 | 64 | M | 48.0 | 0 |\n| 80 | 51 | F | 39.5 | 1 |\n| 81 | 49 | F | 46.3 | 1 |\n| 82 | 57 | F | 31.3 | 1 |\n| 83 | 50 | F | 27.0 | 1 |\n| 84 | 71 | F | 46.6 | 0 |\n| 85 | 51 | F | 50.9 | 1 |\n| 86 | 48 | M | 31.3 | 0 |\n| 87 | 47 | F | 15.1 | 0 |\n\n",
            "text/latex": "A data.frame: 86 × 4\n\\begin{tabular}{r|llll}\n  & age\\_month & gender & vitD\\_level & group\\\\\n  & <int> & <chr> & <dbl> & <int>\\\\\n\\hline\n\t1 & 60 & F & 47.5 & 1\\\\\n\t2 & 50 & M & 39.0 & 1\\\\\n\t3 & 35 & F & 13.6 & 1\\\\\n\t4 & 50 & F & 16.7 & 1\\\\\n\t5 & 61 & F & 32.7 & 0\\\\\n\t6 & 55 & F & 23.2 & 0\\\\\n\t7 & 54 & F & 36.4 & 0\\\\\n\t8 & 60 & F & 38.1 & 1\\\\\n\t9 & 47 & F & 28.2 & 1\\\\\n\t10 & 65 & M & 34.1 & 1\\\\\n\t11 & 22 & F & 25.7 & 1\\\\\n\t12 & 52 & M & 39.9 & 1\\\\\n\t13 & 50 & F & 45.2 & 1\\\\\n\t14 & 51 & F & 47.8 & 0\\\\\n\t15 & 33 & F & 42.4 & 0\\\\\n\t16 & 60 & F & 39.3 & 1\\\\\n\t17 & 65 & F & 23.4 & 1\\\\\n\t18 & 74 & F & 36.6 & 0\\\\\n\t19 & 51 & F & 18.4 & 1\\\\\n\t20 & 57 & F & 87.2 & 0\\\\\n\t21 & 51 & F & 35.1 & 0\\\\\n\t22 & 54 & F & 38.5 & 1\\\\\n\t23 & 53 & F & 28.2 & 1\\\\\n\t24 & 56 & F & 30.6 & 1\\\\\n\t25 & 47 & F & 52.5 & 0\\\\\n\t26 & 46 & M & 23.3 & 0\\\\\n\t27 & 41 & M & 45.4 & 1\\\\\n\t28 & 49 & F & 38.6 & 0\\\\\n\t29 & 66 & M & 46.0 & 1\\\\\n\t30 & 48 & M & 51.3 & 1\\\\\n\t⋮ & ⋮ & ⋮ & ⋮ & ⋮\\\\\n\t57 & 57 & F & 13.8 & 1\\\\\n\t58 & 57 & F & 24.9 & 1\\\\\n\t59 & 40 & M & 45.5 & 1\\\\\n\t60 & 57 & M & 28.6 & 0\\\\\n\t61 & 27 & F & 63.6 & 1\\\\\n\t62 & 45 & F & 21.1 & 0\\\\\n\t63 & 27 & F & 19.2 & 1\\\\\n\t64 & 51 & M & 24.0 & 0\\\\\n\t65 & 50 & M & 50.1 & 0\\\\\n\t66 & 50 & F & 26.1 & 1\\\\\n\t67 & 64 & F & 16.1 & 1\\\\\n\t68 & 52 & M & 34.7 & 1\\\\\n\t69 & 56 & M & 16.0 & 0\\\\\n\t70 & 63 & M & 26.8 & 0\\\\\n\t71 & 53 & M & 37.4 & 1\\\\\n\t72 & 38 & F & 39.7 & 0\\\\\n\t73 & 40 & M & 44.8 & 0\\\\\n\t75 & 54 & F & 31.3 & 0\\\\\n\t76 & 25 & F & 32.7 & 1\\\\\n\t77 & 63 & F & 31.5 & 1\\\\\n\t78 & 50 & M & 40.6 & 1\\\\\n\t79 & 64 & M & 48.0 & 0\\\\\n\t80 & 51 & F & 39.5 & 1\\\\\n\t81 & 49 & F & 46.3 & 1\\\\\n\t82 & 57 & F & 31.3 & 1\\\\\n\t83 & 50 & F & 27.0 & 1\\\\\n\t84 & 71 & F & 46.6 & 0\\\\\n\t85 & 51 & F & 50.9 & 1\\\\\n\t86 & 48 & M & 31.3 & 0\\\\\n\t87 & 47 & F & 15.1 & 0\\\\\n\\end{tabular}\n",
            "text/plain": [
              "   age_month gender vitD_level group\n",
              "1  60        F      47.5       1    \n",
              "2  50        M      39.0       1    \n",
              "3  35        F      13.6       1    \n",
              "4  50        F      16.7       1    \n",
              "5  61        F      32.7       0    \n",
              "6  55        F      23.2       0    \n",
              "7  54        F      36.4       0    \n",
              "8  60        F      38.1       1    \n",
              "9  47        F      28.2       1    \n",
              "10 65        M      34.1       1    \n",
              "11 22        F      25.7       1    \n",
              "12 52        M      39.9       1    \n",
              "13 50        F      45.2       1    \n",
              "14 51        F      47.8       0    \n",
              "15 33        F      42.4       0    \n",
              "16 60        F      39.3       1    \n",
              "17 65        F      23.4       1    \n",
              "18 74        F      36.6       0    \n",
              "19 51        F      18.4       1    \n",
              "20 57        F      87.2       0    \n",
              "21 51        F      35.1       0    \n",
              "22 54        F      38.5       1    \n",
              "23 53        F      28.2       1    \n",
              "24 56        F      30.6       1    \n",
              "25 47        F      52.5       0    \n",
              "26 46        M      23.3       0    \n",
              "27 41        M      45.4       1    \n",
              "28 49        F      38.6       0    \n",
              "29 66        M      46.0       1    \n",
              "30 48        M      51.3       1    \n",
              "⋮  ⋮         ⋮      ⋮          ⋮    \n",
              "57 57        F      13.8       1    \n",
              "58 57        F      24.9       1    \n",
              "59 40        M      45.5       1    \n",
              "60 57        M      28.6       0    \n",
              "61 27        F      63.6       1    \n",
              "62 45        F      21.1       0    \n",
              "63 27        F      19.2       1    \n",
              "64 51        M      24.0       0    \n",
              "65 50        M      50.1       0    \n",
              "66 50        F      26.1       1    \n",
              "67 64        F      16.1       1    \n",
              "68 52        M      34.7       1    \n",
              "69 56        M      16.0       0    \n",
              "70 63        M      26.8       0    \n",
              "71 53        M      37.4       1    \n",
              "72 38        F      39.7       0    \n",
              "73 40        M      44.8       0    \n",
              "75 54        F      31.3       0    \n",
              "76 25        F      32.7       1    \n",
              "77 63        F      31.5       1    \n",
              "78 50        M      40.6       1    \n",
              "79 64        M      48.0       0    \n",
              "80 51        F      39.5       1    \n",
              "81 49        F      46.3       1    \n",
              "82 57        F      31.3       1    \n",
              "83 50        F      27.0       1    \n",
              "84 71        F      46.6       0    \n",
              "85 51        F      50.9       1    \n",
              "86 48        M      31.3       0    \n",
              "87 47        F      15.1       0    "
            ]
          },
          "metadata": {}
        }
      ],
      "source": [
        "# read in data\n",
        "data <- read.table('data1_LSC598.txt', header = T)\n",
        "\n",
        "# omit null values\n",
        "data <- na.omit(data)\n",
        "\n",
        "data"
      ]
    },
    {
      "cell_type": "code",
      "source": [
        "# 1. side-by-side boxplot for vitD_level by gender\n",
        "ggplot(data, aes(x = gender, y = vitD_level)) +\n",
        "  geom_boxplot() +\n",
        "  labs(title = \"Vitamin D Levels by Gender\", x = \"Gender\", y = \"Vitamin D Level\")"
      ],
      "metadata": {
        "colab": {
          "base_uri": "https://localhost:8080/",
          "height": 437
        },
        "id": "B9HslkH3XxaO",
        "outputId": "95042720-9a0e-43da-b676-df4661cd4eb3"
      },
      "execution_count": 18,
      "outputs": [
        {
          "output_type": "display_data",
          "data": {
            "text/plain": [
              "plot without title"
            ],
            "image/png": "[encoded data removed]"
          },
          "metadata": {
            "image/png": {
              "width": 420,
              "height": 420
            }
          }
        }
      ]
    },
    {
      "cell_type": "markdown",
      "source": [
        "## Interpretation\n",
        "### Median:\n",
        "The median vitamin D levels for males and females are quite similar.\n",
        "### Variability:\n",
        "Both genders exhibit similar variability in vitamin D levels as indicated by the similar IQR and whisker ranges.\n",
        "### Outliers:\n",
        "The presence of outliers in the female group suggests that there are a few females with vitamin D levels significantly higher than the rest."
      ],
      "metadata": {
        "id": "Wv-tDfWU0HHE"
      }
    },
    {
      "cell_type": "code",
      "source": [
        "# 2b. calculate the correlation coefficient\n",
        "correlation <- cor(data$age_month, data$vitD_level)\n",
        "correlation"
      ],
      "metadata": {
        "colab": {
          "base_uri": "https://localhost:8080/",
          "height": 34
        },
        "id": "Gsxl6l6w1Gxr",
        "outputId": "dcf05f6f-bd77-4d29-d7f8-68f8b73827dc"
      },
      "execution_count": 19,
      "outputs": [
        {
          "output_type": "display_data",
          "data": {
            "text/html": [
              "0.0825957150297357"
            ],
            "text/markdown": "0.0825957150297357",
            "text/latex": "0.0825957150297357",
            "text/plain": [
              "[1] 0.08259572"
            ]
          },
          "metadata": {}
        }
      ]
    },
    {
      "cell_type": "markdown",
      "source": [
        "## Interpretation\n",
        "The correlation of ~0.0826 indicates a very weak positive linear relation ship betwen age_month and vitD_level. However, the value is extremely low, close to zero, meaning the increase is minimal and not practically significant.\n",
        "### Practical Significance:\n",
        "Given that the correlation is so close to zero, age and vitamin D levels are essentially independent in this dataset and any observed relationship too weak to be meaningful."
      ],
      "metadata": {
        "id": "NvkRII9Y1TS2"
      }
    },
    {
      "cell_type": "code",
      "source": [
        "# 3. perform t-test for vitD_level by gender\n",
        "t_test_gender <- t.test(vitD_level ~ gender, data = data)\n",
        "t_test_gender"
      ],
      "metadata": {
        "colab": {
          "base_uri": "https://localhost:8080/",
          "height": 237
        },
        "id": "WVwidrkXsTEA",
        "outputId": "38d731c0-0601-4474-d9e1-d3b067e965fc"
      },
      "execution_count": 20,
      "outputs": [
        {
          "output_type": "display_data",
          "data": {
            "text/plain": [
              "\n",
              "\tWelch Two Sample t-test\n",
              "\n",
              "data:  vitD_level by gender\n",
              "t = 0.10163, df = 58.166, p-value = 0.9194\n",
              "alternative hypothesis: true difference in means between group F and group M is not equal to 0\n",
              "95 percent confidence interval:\n",
              " -6.196153  6.859056\n",
              "sample estimates:\n",
              "mean in group F mean in group M \n",
              "       36.05645        35.72500 \n"
            ]
          },
          "metadata": {}
        }
      ]
    },
    {
      "cell_type": "markdown",
      "source": [
        "## Interpretation\n",
        "### No Significant Difference:\n",
        "The p-value (0.9194) is much greater than 0.05, indicating no statistically significant difference in vitamin D levels between females and males.\n",
        "### Confidence Interval Includes Zero:\n",
        "The 95% confidence interval [-6.196153, 6.859056] includes zero, supporting the conclusion that the true difference in means could be zero.\n",
        "### Similar Means:\n",
        "The mean vitamin D levels for females (36.05645) and males (35.72500) are very close, showing little practical difference."
      ],
      "metadata": {
        "id": "KBjzMrYO06SH"
      }
    },
    {
      "cell_type": "code",
      "source": [
        "# 4. perform t-test for vitD_level by group\n",
        "t_test_group <- t.test(vitD_level ~ as.factor(group), data = data)\n",
        "t_test_group\n"
      ],
      "metadata": {
        "colab": {
          "base_uri": "https://localhost:8080/",
          "height": 237
        },
        "id": "u3cQDmaGsYHZ",
        "outputId": "8c45c74c-2394-4b68-e540-ac87628ebf11"
      },
      "execution_count": 21,
      "outputs": [
        {
          "output_type": "display_data",
          "data": {
            "text/plain": [
              "\n",
              "\tWelch Two Sample t-test\n",
              "\n",
              "data:  vitD_level by as.factor(group)\n",
              "t = 0.89425, df = 64.73, p-value = 0.3745\n",
              "alternative hypothesis: true difference in means between group 0 and group 1 is not equal to 0\n",
              "95 percent confidence interval:\n",
              " -3.896267 10.213690\n",
              "sample estimates:\n",
              "mean in group 0 mean in group 1 \n",
              "       37.83714        34.67843 \n"
            ]
          },
          "metadata": {}
        }
      ]
    },
    {
      "cell_type": "markdown",
      "source": [
        "## Interpretation:\n",
        "### No Significant Difference:\n",
        "The p-value (0.3745) is greater than 0.05, indicating no statistically significant difference in vitamin D levels between healthy and autism groups.\n",
        "### Confidence Interval Includes Zero:\n",
        "The 95% confidence interval [-3.896267, 10.213690] includes zero, supporting the conclusion that the true difference in means could be zero.\n",
        "### Similar Means:\n",
        "The mean vitamin D levels for healthy (37.83714) and autism (34.67843) groups are close, showing little practical difference."
      ],
      "metadata": {
        "id": "6Q_ItBAB1zWn"
      }
    },
    {
      "cell_type": "markdown",
      "source": [
        "## Conclusion of t-tests\n",
        "Overall, neither gender nor health status (healthy vs. autism) significantly affect vitamin D levels in this dataset."
      ],
      "metadata": {
        "id": "MmpJh28ptHZD"
      }
    }
  ]
}